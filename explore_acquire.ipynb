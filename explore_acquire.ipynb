{
 "cells": [
  {
   "cell_type": "markdown",
   "id": "44f668ab-4dd7-4db8-a98e-6f444c9c569e",
   "metadata": {},
   "source": [
    "## Planning\n",
    "- Get list of European cities (start with just ones with passes)\n",
    "- For each city, get list of sights there\n",
    "- For each city, get list of sights included in pass\n",
    "- Determine cost of pass\n",
    "- Determine cost of each sight \n",
    "- Determine additional details that might help the traveler, such as inclusion of public transit\n",
    "- Generate itineraries based on interests, hotel location, length of stay, traveler type (family, solo, disabled, etc.) of traveler\n",
    "- Recommend pass or not"
   ]
  },
  {
   "cell_type": "code",
   "execution_count": 1,
   "id": "a04514f9-fa87-473d-acac-45c35c95ca32",
   "metadata": {},
   "outputs": [],
   "source": [
    "import pandas as pd\n",
    "from bs4 import BeautifulSoup\n",
    "import requests\n",
    "import re"
   ]
  },
  {
   "cell_type": "markdown",
   "id": "5ca74eaf-9cdc-4444-8ea0-a304e68a6e6d",
   "metadata": {},
   "source": [
    "### Get list of European cities"
   ]
  },
  {
   "cell_type": "code",
   "execution_count": 11,
   "id": "f1d12a4b-500b-48ff-b625-960c0589c4a1",
   "metadata": {},
   "outputs": [],
   "source": [
    "page = requests.get(\"https://citypassguide.weebly.com/europe.html\")\n",
    "page\n",
    "\n",
    "soup = BeautifulSoup(page.content, 'html.parser')"
   ]
  },
  {
   "cell_type": "code",
   "execution_count": 12,
   "id": "f3654cac-1158-4f53-8a48-97e98779d401",
   "metadata": {},
   "outputs": [
    {
     "data": {
      "text/plain": [
       "'\\n\\t\\t\\t\\tFlights\\n\\t\\t\\t'"
      ]
     },
     "execution_count": 12,
     "metadata": {},
     "output_type": "execute_result"
    }
   ],
   "source": [
    "soup.find_all(name = 'a')[4].text"
   ]
  },
  {
   "cell_type": "code",
   "execution_count": 13,
   "id": "50aa9e61-ae85-4162-a9f3-b0d80c4bd4d1",
   "metadata": {},
   "outputs": [],
   "source": [
    "# Get the links with card or pass in the name\n",
    "pattern_card = re.compile(r'.*Card.*')\n",
    "pattern_pass = re.compile(r'.*Pass.*')"
   ]
  },
  {
   "cell_type": "code",
   "execution_count": 24,
   "id": "5154f89b-d318-4d52-9b92-136e3a00730a",
   "metadata": {},
   "outputs": [
    {
     "name": "stdout",
     "output_type": "stream",
     "text": [
      "/antwerp-city-card.html\n",
      "antwerp\n",
      "/barcelona-card.html\n",
      "barcelona\n",
      "/berlin-welcome-card.html\n",
      "berlin\n",
      "/brussels-card.html\n",
      "brussels\n",
      "/budapest-card.html\n",
      "budapest\n",
      "/cologne-card.html\n",
      "cologne\n",
      "/dresden-city-card.html\n",
      "dresden\n",
      "/dresden-regional-card.html\n",
      "dresden\n",
      "/frankfurt-card.html\n",
      "frankfurt\n",
      "/genova-museum-card.html\n",
      "genova\n",
      "/hamburg-card.html\n",
      "hamburg\n",
      "/heidelberg-card.html\n",
      "heidelberg\n",
      "/helsinki-card.html\n",
      "helsinki\n",
      "/lisbon-card.html\n",
      "lisbon\n",
      "/madrid-card.html\n",
      "madrid\n",
      "/milano-card.html\n",
      "milano\n",
      "/nuremberg-card.html\n",
      "nuremberg\n",
      "/prague-welcome-card.html\n",
      "prague\n",
      "/salzburg-card.html\n",
      "salzburg\n",
      "/sevilla-card.html\n",
      "sevilla\n",
      "/stockholm-card.html\n",
      "stockholm\n",
      "/stuttgart-card.html\n",
      "stuttgart\n",
      "/torino--piemonte-card.html\n",
      "torino\n",
      "/valencia-card.html\n",
      "valencia\n",
      "/venice-card.html\n",
      "venice\n",
      "/venice-card.html\n",
      "venice\n",
      "/zurich-card.html\n",
      "zurich\n",
      "/stockholm-card.html\n",
      "stockholm\n",
      "/salzburg-card.html\n",
      "salzburg\n",
      "/amsterdam-city-card.html\n",
      "amsterdam\n",
      "/berlin-sightseeing-pass.html\n",
      "berlin\n",
      "/dublin-pass.html\n",
      "dublin\n",
      "/edinburgh-pass.html\n",
      "edinburgh\n",
      "/florence--tuscany-pass.html\n",
      "florence\n",
      "/lille-city-pass.html\n",
      "lille\n",
      "/london-pass.html\n",
      "london\n",
      "/madrid-zone-a-travel-pass.html\n",
      "madrid\n",
      "/madrid-zone-t-travel-pass.html\n",
      "madrid\n",
      "/marseille-city-pass.html\n",
      "marseille\n",
      "/moscow-city-pass.html\n",
      "moscow\n",
      "/oslo-pass.html\n",
      "oslo\n",
      "/paris-pass.html\n",
      "paris\n",
      "/prague-city-30-day-pass.html\n",
      "prague\n",
      "/amsterdam-city-card.html\n",
      "amsterdam\n",
      "/st-petersburg-city-pass.html\n",
      "st_petersburg\n",
      "/amsterdam-city-card.html\n",
      "amsterdam\n",
      "/vatican-and-rome-city-pass.html\n",
      "vatican\n",
      "/vienna-pass.html\n",
      "vienna\n",
      "/london-pass.html\n",
      "london\n",
      "/paris-pass.html\n",
      "paris\n",
      "/dublin-pass.html\n",
      "dublin\n",
      "/berlin-sightseeing-pass.html\n",
      "berlin\n"
     ]
    }
   ],
   "source": [
    "city_names = []\n",
    "city_card_links = []\n",
    "for card in soup.find_all(name='a', text = pattern_card)+soup.find_all(name='a', text = pattern_pass):\n",
    "    city_card_link = card.attrs['href']\n",
    "    city_name = city_card_link.split(\"-\")[0][1:]\n",
    "    if len(city_name)>0 and city_name != 'getting':\n",
    "        print(city_card_link)\n",
    "        if city_name == 'st':\n",
    "            city_name = \"_\".join([city_card_link.split(\"-\")[0][1:], city_card_link.split(\"-\")[1]])\n",
    "            print(city_name)\n",
    "        else:\n",
    "            print(city_name)\n",
    "        city_names.append(city_name)\n",
    "        city_card_links.append(city_card_link)"
   ]
  },
  {
   "cell_type": "code",
   "execution_count": null,
   "id": "debef784-3ee0-4bd6-b1e7-8b03db0aefa4",
   "metadata": {},
   "outputs": [],
   "source": []
  },
  {
   "cell_type": "code",
   "execution_count": 6,
   "id": "a92abffb-51ef-4df2-b9cb-13570784fdf6",
   "metadata": {},
   "outputs": [],
   "source": [
    "# page = requests.get(\"https://citypassguide.weebly.com/\")\n",
    "# page\n",
    "\n",
    "# soup = BeautifulSoup(page.content, 'html.parser')"
   ]
  },
  {
   "cell_type": "code",
   "execution_count": 23,
   "id": "2e445bce-7ce8-4e9c-830c-8d2236435bca",
   "metadata": {},
   "outputs": [],
   "source": [
    "# soup.find_all(name = 'select')"
   ]
  },
  {
   "cell_type": "code",
   "execution_count": null,
   "id": "a1b27caa-91c7-450c-b594-87e4d25a52e1",
   "metadata": {},
   "outputs": [],
   "source": []
  }
 ],
 "metadata": {
  "kernelspec": {
   "display_name": "quant",
   "language": "python",
   "name": "quant"
  },
  "language_info": {
   "codemirror_mode": {
    "name": "ipython",
    "version": 3
   },
   "file_extension": ".py",
   "mimetype": "text/x-python",
   "name": "python",
   "nbconvert_exporter": "python",
   "pygments_lexer": "ipython3",
   "version": "3.9.7"
  }
 },
 "nbformat": 4,
 "nbformat_minor": 5
}
