{
 "cells": [
  {
   "cell_type": "markdown",
   "id": "44f668ab-4dd7-4db8-a98e-6f444c9c569e",
   "metadata": {},
   "source": [
    "## Planning\n",
    "- Get list of European cities (start with just ones with passes)\n",
    "- For each city, get list of sights there\n",
    "- For each city, get list of sights included in pass\n",
    "- Determine cost of pass\n",
    "- Determine cost of each sight \n",
    "- Determine additional details that might help the traveler, such as inclusion of public transit\n",
    "- Generate itineraries based on interests, hotel location, length of stay, traveler type (family, solo, disabled, etc.) of traveler\n",
    "- Recommend pass or not"
   ]
  },
  {
   "cell_type": "code",
   "execution_count": 24,
   "id": "a04514f9-fa87-473d-acac-45c35c95ca32",
   "metadata": {},
   "outputs": [],
   "source": [
    "import pandas as pd\n",
    "from bs4 import BeautifulSoup\n",
    "import requests\n",
    "import re"
   ]
  },
  {
   "cell_type": "markdown",
   "id": "5ca74eaf-9cdc-4444-8ea0-a304e68a6e6d",
   "metadata": {},
   "source": [
    "### Get list of European cities"
   ]
  },
  {
   "cell_type": "code",
   "execution_count": 3,
   "id": "f1d12a4b-500b-48ff-b625-960c0589c4a1",
   "metadata": {},
   "outputs": [],
   "source": [
    "page = requests.get(\"https://citypassguide.weebly.com/europe.html\")\n",
    "page\n",
    "\n",
    "soup = BeautifulSoup(page.content, 'html.parser')"
   ]
  },
  {
   "cell_type": "code",
   "execution_count": 22,
   "id": "f3654cac-1158-4f53-8a48-97e98779d401",
   "metadata": {},
   "outputs": [
    {
     "data": {
      "text/plain": [
       "'\\n\\t\\t\\t\\tFlights\\n\\t\\t\\t'"
      ]
     },
     "execution_count": 22,
     "metadata": {},
     "output_type": "execute_result"
    }
   ],
   "source": [
    "soup.find_all(name = 'a')[4].text"
   ]
  },
  {
   "cell_type": "code",
   "execution_count": 35,
   "id": "50aa9e61-ae85-4162-a9f3-b0d80c4bd4d1",
   "metadata": {},
   "outputs": [],
   "source": [
    "pattern_card = re.compile(r'.*Card.*')\n",
    "pattern_pass = re.compile(r'.*Pass.*')"
   ]
  },
  {
   "cell_type": "code",
   "execution_count": 45,
   "id": "5154f89b-d318-4d52-9b92-136e3a00730a",
   "metadata": {},
   "outputs": [
    {
     "name": "stdout",
     "output_type": "stream",
     "text": [
      "/antwerp-city-card.html\n",
      "/barcelona-card.html\n",
      "/berlin-welcome-card.html\n",
      "/brussels-card.html\n",
      "/budapest-card.html\n",
      "/cologne-card.html\n",
      "/dresden-city-card.html\n",
      "/dresden-regional-card.html\n",
      "/frankfurt-card.html\n",
      "/genova-museum-card.html\n",
      "/hamburg-card.html\n",
      "/heidelberg-card.html\n",
      "/helsinki-card.html\n",
      "/lisbon-card.html\n",
      "/madrid-card.html\n",
      "/milano-card.html\n",
      "/nuremberg-card.html\n",
      "/prague-welcome-card.html\n",
      "/salzburg-card.html\n",
      "/sevilla-card.html\n",
      "/stockholm-card.html\n",
      "/stuttgart-card.html\n",
      "/torino--piemonte-card.html\n",
      "/valencia-card.html\n",
      "/venice-card.html\n",
      "/venice-card.html\n",
      "/zurich-card.html\n",
      "/stockholm-card.html\n",
      "/salzburg-card.html\n",
      "/\n",
      "/getting-your-pass.html\n",
      "/\n",
      "/amsterdam-city-card.html\n",
      "/berlin-sightseeing-pass.html\n",
      "/dublin-pass.html\n",
      "/edinburgh-pass.html\n",
      "/florence--tuscany-pass.html\n",
      "/lille-city-pass.html\n",
      "/london-pass.html\n",
      "/madrid-zone-a-travel-pass.html\n",
      "/madrid-zone-t-travel-pass.html\n",
      "/marseille-city-pass.html\n",
      "/moscow-city-pass.html\n",
      "/oslo-pass.html\n",
      "/paris-pass.html\n",
      "/prague-city-30-day-pass.html\n",
      "/amsterdam-city-card.html\n",
      "/st-petersburg-city-pass.html\n",
      "/amsterdam-city-card.html\n",
      "/vatican-and-rome-city-pass.html\n",
      "/vienna-pass.html\n",
      "/london-pass.html\n",
      "/paris-pass.html\n",
      "/dublin-pass.html\n",
      "/berlin-sightseeing-pass.html\n"
     ]
    }
   ],
   "source": [
    "for card in soup.find_all(name='a', text = pattern_card)+soup.find_all(name='a', text = pattern_pass):\n",
    "    print(card.attrs['href'])"
   ]
  },
  {
   "cell_type": "code",
   "execution_count": null,
   "id": "a92abffb-51ef-4df2-b9cb-13570784fdf6",
   "metadata": {},
   "outputs": [],
   "source": []
  }
 ],
 "metadata": {
  "kernelspec": {
   "display_name": "quant",
   "language": "python",
   "name": "quant"
  },
  "language_info": {
   "codemirror_mode": {
    "name": "ipython",
    "version": 3
   },
   "file_extension": ".py",
   "mimetype": "text/x-python",
   "name": "python",
   "nbconvert_exporter": "python",
   "pygments_lexer": "ipython3",
   "version": "3.9.7"
  }
 },
 "nbformat": 4,
 "nbformat_minor": 5
}
