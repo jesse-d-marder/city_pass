{
 "cells": [
  {
   "cell_type": "code",
   "execution_count": 7,
   "id": "a04514f9-fa87-473d-acac-45c35c95ca32",
   "metadata": {},
   "outputs": [],
   "source": [
    "import pandas as pd\n",
    "from bs4 import BeautifulSoup\n",
    "import requests"
   ]
  },
  {
   "cell_type": "code",
   "execution_count": 8,
   "id": "f1d12a4b-500b-48ff-b625-960c0589c4a1",
   "metadata": {},
   "outputs": [],
   "source": [
    "page = requests.get(\"https://citypassguide.weebly.com/europe.html\")\n",
    "page\n",
    "\n",
    "soup = BeautifulSoup(page.content, 'html.parser')"
   ]
  },
  {
   "cell_type": "code",
   "execution_count": 17,
   "id": "5154f89b-d318-4d52-9b92-136e3a00730a",
   "metadata": {},
   "outputs": [
    {
     "data": {
      "text/plain": [
       "<a class=\"wsite-menu-item\" href=\"/flights.html\">\n",
       "\t\t\t\tFlights\n",
       "\t\t\t</a>"
      ]
     },
     "execution_count": 17,
     "metadata": {},
     "output_type": "execute_result"
    }
   ],
   "source": [
    "soup.find_all(name='a')[4]"
   ]
  },
  {
   "cell_type": "code",
   "execution_count": null,
   "id": "a92abffb-51ef-4df2-b9cb-13570784fdf6",
   "metadata": {},
   "outputs": [],
   "source": []
  }
 ],
 "metadata": {
  "kernelspec": {
   "display_name": "quant",
   "language": "python",
   "name": "quant"
  },
  "language_info": {
   "codemirror_mode": {
    "name": "ipython",
    "version": 3
   },
   "file_extension": ".py",
   "mimetype": "text/x-python",
   "name": "python",
   "nbconvert_exporter": "python",
   "pygments_lexer": "ipython3",
   "version": "3.9.7"
  }
 },
 "nbformat": 4,
 "nbformat_minor": 5
}
