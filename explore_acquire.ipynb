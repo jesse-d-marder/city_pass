{
 "cells": [
  {
   "cell_type": "markdown",
   "id": "44f668ab-4dd7-4db8-a98e-6f444c9c569e",
   "metadata": {},
   "source": [
    "## Planning\n",
    "- Get list of European cities (start with just ones with passes)\n",
    "- For each city, get list of sights there\n",
    "- For each city, get list of sights included in pass\n",
    "- Determine cost of pass\n",
    "- Determine cost of each sight \n",
    "- Determine additional details that might help the traveler, such as inclusion of public transit\n",
    "- Generate itineraries based on interests, hotel location, length of stay, traveler type (family, solo, disabled, etc.) of traveler\n",
    "- Recommend pass or not"
   ]
  },
  {
   "cell_type": "code",
   "execution_count": 7,
   "id": "a04514f9-fa87-473d-acac-45c35c95ca32",
   "metadata": {},
   "outputs": [],
   "source": [
    "import pandas as pd\n",
    "from bs4 import BeautifulSoup\n",
    "import requests"
   ]
  },
  {
   "cell_type": "code",
   "execution_count": 8,
   "id": "f1d12a4b-500b-48ff-b625-960c0589c4a1",
   "metadata": {},
   "outputs": [],
   "source": [
    "page = requests.get(\"https://citypassguide.weebly.com/europe.html\")\n",
    "page\n",
    "\n",
    "soup = BeautifulSoup(page.content, 'html.parser')"
   ]
  },
  {
   "cell_type": "code",
   "execution_count": 19,
   "id": "f3654cac-1158-4f53-8a48-97e98779d401",
   "metadata": {},
   "outputs": [
    {
     "data": {
      "text/plain": [
       "[<a href=\"/\">\n",
       " <span id=\"wsite-title\">City Pass Guide</span>\n",
       " </a>,\n",
       " <a class=\"wsite-menu-item\" href=\"/\">\n",
       " \t\t\t\tCity Passes\n",
       " \t\t\t</a>,\n",
       " <a class=\"wsite-menu-item\" href=\"/city-guides.html\">\n",
       " \t\t\t\tCity Guides\n",
       " \t\t\t</a>,\n",
       " <a class=\"wsite-menu-item\" href=\"/getting-your-pass.html\">\n",
       " \t\t\t\tGetting your Pass\n",
       " \t\t\t</a>,\n",
       " <a class=\"wsite-menu-item\" href=\"/flights.html\">\n",
       " \t\t\t\tFlights\n",
       " \t\t\t</a>,\n",
       " <a class=\"wsite-menu-item\" href=\"/hotels.html\">\n",
       " \t\t\t\tHotels\n",
       " \t\t\t</a>,\n",
       " <a class=\"wsite-menu-item\" href=\"/holiday-extras.html\">\n",
       " \t\t\t\tHoliday Extras\n",
       " \t\t\t</a>,\n",
       " <a href=\"/\" style=\"\" title=\"\">City Passes </a>,\n",
       " <a href=\"/amsterdam-city-card.html\">Amsterdam (Holland Pass)</a>,\n",
       " <a href=\"/antwerp-city-card.html\">Antwerp City Card</a>,\n",
       " <a href=\"/barcelona-card.html\">Barcelona Card</a>,\n",
       " <a href=\"/berlin-sightseeing-pass.html\">Berlin Sightseeing Pass</a>,\n",
       " <a href=\"/berlin-welcome-card.html\">Berlin Welcome Card</a>,\n",
       " <a href=\"/brussels-card.html\">Brussels Card</a>,\n",
       " <a href=\"/budapest-card.html\">Budapest Card</a>,\n",
       " <a href=\"/cologne-card.html\">Cologne Card</a>,\n",
       " <a href=\"/dresden-city-card.html\">Dresden City Card</a>,\n",
       " <a href=\"/dresden-regional-card.html\">Dresden Regional Card</a>,\n",
       " <a href=\"/dublin-pass.html\">Dublin Pass</a>,\n",
       " <a href=\"/edinburgh-pass.html\">Edinburgh Pass</a>,\n",
       " <a href=\"/erlebniscard-bremen.html\">ErlebnisCARD Bremen</a>,\n",
       " <a href=\"/florence--tuscany-pass.html\">Florence &amp; Tuscany Pass</a>,\n",
       " <a href=\"/frankfurt-card.html\">Frankfurt Card</a>,\n",
       " <a href=\"/genova-museum-card.html\">Genova Museum Card</a>,\n",
       " <a href=\"/hamburg-card.html\" title=\"\">Hamburg Card</a>,\n",
       " <a href=\"/heidelberg-card.html\" title=\"\">Heidelberg Card</a>,\n",
       " <a href=\"/helsinki-card.html\" title=\"\">Helsinki Card</a>,\n",
       " <a href=\"/lille-city-pass.html\" title=\"\">Lille City Pass</a>,\n",
       " <a href=\"/lisbon-card.html\" title=\"\">Lisbon Card</a>,\n",
       " <a href=\"/london-pass.html\" title=\"\">London Pass</a>,\n",
       " <a href=\"/madrid-card.html\" title=\"\">Madrid Card</a>,\n",
       " <a href=\"/madrid-zone-a-travel-pass.html\" title=\"\">Madrid Zone A Travel Pass</a>,\n",
       " <a href=\"/madrid-zone-t-travel-pass.html\" title=\"\">Madrid Zone T Travel Pass</a>,\n",
       " <a href=\"/marseille-city-pass.html\" title=\"\">Marseille City Pass</a>,\n",
       " <a href=\"/milano-card.html\" title=\"\">Milano Card</a>,\n",
       " <a href=\"/moscow-city-pass.html\" title=\"\">Moscow City Pass</a>,\n",
       " <a href=\"/nuremberg-card.html\" title=\"\">Nuremberg Card</a>,\n",
       " <a href=\"/oslo-pass.html\" title=\"\">Oslo Pass</a>,\n",
       " <a href=\"/paris-pass.html\" title=\"\">Paris Pass</a>,\n",
       " <a href=\"/prague-city-30-day-pass.html\" title=\"\">Prague City 30 Day Pass</a>,\n",
       " <a href=\"/prague-welcome-card.html\">Prague Welcome Card</a>,\n",
       " <a href=\"/amsterdam-city-card.html\">Rotterdam (Holland Pass)</a>,\n",
       " <a href=\"/salzburg-card.html\">Salzburg Card</a>,\n",
       " <a href=\"/sevilla-card.html\">Sevilla Card</a>,\n",
       " <a href=\"/st-petersburg-city-pass.html\">St. Petersburg City Pass</a>,\n",
       " <a href=\"/stockholm-card.html\">Stockholm Card</a>,\n",
       " <a href=\"/stuttgart-card.html\">Stuttgart Card</a>,\n",
       " <a href=\"/amsterdam-city-card.html\">The Hague (Holland Pass)</a>,\n",
       " <a href=\"/torino--piemonte-card.html\">Torino &amp; Piemonte Card</a>,\n",
       " <a href=\"/valencia-card.html\">Valencia Card</a>,\n",
       " <a href=\"/vatican-and-rome-city-pass.html\">Vatican &amp; Rome City Pass</a>,\n",
       " <a href=\"/venice-card.html\">Venice Card</a>,\n",
       " <a href=\"/venice-card.html\">Vienna Card</a>,\n",
       " <a href=\"/vienna-pass.html\">Vienna Pass</a>,\n",
       " <a href=\"/zurich-card.html\">Zurich Card</a>,\n",
       " <a href=\"/london-pass.html\" title=\"\">London Pass</a>,\n",
       " <a href=\"/paris-pass.html\" title=\"\">Paris Pass</a>,\n",
       " <a href=\"/stockholm-card.html\" title=\"\">Stockholm Card</a>,\n",
       " <a href=\"/dublin-pass.html\" title=\"\">Dublin Pass</a>,\n",
       " <a href=\"/salzburg-card.html\" title=\"\">Salzburg Card</a>,\n",
       " <a href=\"/salzburg-card.html\" title=\"\">Sound of Music Tour</a>,\n",
       " <a href=\"/berlin-sightseeing-pass.html\" title=\"\">Berlin Sightseeing Pass</a>,\n",
       " <a href=\"http://www.awin1.com/cread.php?awinmid=1238&amp;awinaffid=153262&amp;clickref=&amp;p=http%3A%2F%2Fshop.lonelyplanet.com%2Feurope%2Feurope-travel-guide-1%2F\" target=\"_blank\">\n",
       " <img alt=\"Picture\" src=\"/uploads/1/3/2/2/13228176/books_orig.png\" style=\"width:auto;max-width:100%\"/>\n",
       " </a>,\n",
       " <a class=\"signup-container-header\" href=\"https://www.weebly.com/signup?utm_source=internal&amp;utm_medium=footer\" id=\"signup-link-href\" target=\"_blank\">\n",
       " <div class=\"powered-by\">\n",
       " <div class=\"footer-published-ab-powered-by\">\n",
       " \t\t\t\tPowered by <span class=\"link weebly-icon\"></span>\n",
       " <img class=\"footer-ab-published-toast-image\" src=\"//cdn2.editmysite.com/images/site/footer/footer-toast-published-image-1.png\"/>\n",
       " <span class=\"footer-ab-published-toast-text\">Create your own unique website with customizable templates.</span>\n",
       " <span class=\"footer-ab-published-toast-button-wrapper\">\n",
       " <button class=\"footer-published-ab-button\">Get Started</button>\n",
       " </span>\n",
       " </div>\n",
       " </div>\n",
       " </a>]"
      ]
     },
     "execution_count": 19,
     "metadata": {},
     "output_type": "execute_result"
    }
   ],
   "source": [
    "soup.find_all(name = 'a', )"
   ]
  },
  {
   "cell_type": "code",
   "execution_count": 17,
   "id": "5154f89b-d318-4d52-9b92-136e3a00730a",
   "metadata": {},
   "outputs": [
    {
     "data": {
      "text/plain": [
       "<a class=\"wsite-menu-item\" href=\"/flights.html\">\n",
       "\t\t\t\tFlights\n",
       "\t\t\t</a>"
      ]
     },
     "execution_count": 17,
     "metadata": {},
     "output_type": "execute_result"
    }
   ],
   "source": [
    "soup.find_all(name='a')[4]"
   ]
  },
  {
   "cell_type": "code",
   "execution_count": null,
   "id": "a92abffb-51ef-4df2-b9cb-13570784fdf6",
   "metadata": {},
   "outputs": [],
   "source": []
  }
 ],
 "metadata": {
  "kernelspec": {
   "display_name": "quant",
   "language": "python",
   "name": "quant"
  },
  "language_info": {
   "codemirror_mode": {
    "name": "ipython",
    "version": 3
   },
   "file_extension": ".py",
   "mimetype": "text/x-python",
   "name": "python",
   "nbconvert_exporter": "python",
   "pygments_lexer": "ipython3",
   "version": "3.9.7"
  }
 },
 "nbformat": 4,
 "nbformat_minor": 5
}
